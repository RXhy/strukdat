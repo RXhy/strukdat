{
 "cells": [
  {
   "cell_type": "markdown",
   "id": "4b6fe5e0",
   "metadata": {},
   "source": [
    "#### Basic Hash function (str -> int)\n"
   ]
  },
  {
   "cell_type": "code",
   "execution_count": 17,
   "id": "71c69512",
   "metadata": {},
   "outputs": [],
   "source": [
    "def myhash(s):\n",
    "    mult = 1\n",
    "    hv = 0 \n",
    "    for ch in s:\n",
    "        hv += mult * ord(ch)\n",
    "        mult += 1\n",
    "    return hv"
   ]
  },
  {
   "cell_type": "code",
   "execution_count": 16,
   "id": "20f0fab9",
   "metadata": {},
   "outputs": [
    {
     "name": "stdout",
     "output_type": "stream",
     "text": [
      "hello world: 6736\n",
      "world hello: 6616\n",
      "gello xorld: 6742\n",
      "royan harits yustanto: 24229\n",
      "harits yustanto royan: 23881\n",
      "ad: 297\n",
      "ga: 297\n"
     ]
    }
   ],
   "source": [
    "for item in ('hello world', 'world hello', 'gello xorld', 'royan harits yustanto', 'harits yustanto royan','ad','ga'):\n",
    " print(\"{}: {}\".format(item, myhash(item)))"
   ]
  },
  {
   "cell_type": "markdown",
   "id": "a9f9747a",
   "metadata": {},
   "source": [
    "#### Basic Hash Tables (growth)"
   ]
  },
  {
   "cell_type": "code",
   "execution_count": 15,
   "id": "0e4b6091",
   "metadata": {},
   "outputs": [],
   "source": [
    "class HashItem:\n",
    "    def __init__(self, key, value):\n",
    "        self.key = key\n",
    "        self.value = value\n",
    "\n",
    "class HashTable: \n",
    "    def __init__(self):\n",
    "        self.size = 10\n",
    "        self.slots = [None for _ in range(self.size)] \n",
    "        self.count = 0 \n",
    "        self.MAXLOADFACTOR = 0.65\n",
    "\n",
    "    def _hash(self, key): \n",
    "        mult = 1 \n",
    "        hv = 0 \n",
    "        for ch in key: \n",
    "            hv += mult * ord(ch) \n",
    "            mult += 1 \n",
    "        return hv % self.size \n",
    "\n",
    "    def put(self, key, value): \n",
    "        item = HashItem(key, value) \n",
    "        h = self._hash(key)\n",
    "        while self.slots[h] is not None:\n",
    "            if self.slots[h].key == key:\n",
    "                break\n",
    "            h = (h + 1) % self.size\n",
    "        if self.slots[h] is None:\n",
    "            self.count += 1\n",
    "        self.slots[h] = item\n",
    "        self.check_growth()\n",
    "\n",
    "    def check_growth(self):\n",
    "        loadfactor = self.count / self.size \n",
    "        if loadfactor > self.MAXLOADFACTOR:\n",
    "            print(\"Load factor before growing the hash table:\", self.count / self.size)\n",
    "            self.growth()\n",
    "            print(\"Load factor after growing the hash table:\", self.count / self.size)\n",
    "\n",
    "    def growth(self):\n",
    "        new_table = HashTable()\n",
    "        new_table.size = 2 * self.size\n",
    "        new_table.slots = [None for _ in range(new_table.size)]\n",
    "\n",
    "        for item in self.slots:\n",
    "            if item is not None:\n",
    "                new_table.put(item.key, item.value)\n",
    "        \n",
    "        self.size = new_table.size\n",
    "        self.slots = new_table.slots\n",
    "\n",
    "    def get(self, key): \n",
    "        h = self._hash(key)\n",
    "        start = h  \n",
    "        while self.slots[h] is not None:\n",
    "            if self.slots[h].key == key: \n",
    "                return self.slots[h].value \n",
    "            h = (h + 1) % self.size \n",
    "            if h == start:\n",
    "                break\n",
    "        return None\n",
    "    def __setitem__(self, key, value):\n",
    "     self.put(key, value)\n",
    "     def __getitem__(self, key):\n",
    "        return self.get(key)"
   ]
  },
  {
   "cell_type": "code",
   "execution_count": 21,
   "id": "2e650594",
   "metadata": {},
   "outputs": [
    {
     "name": "stdout",
     "output_type": "stream",
     "text": [
      "Load factor before growing the hash table: 0.7\n",
      "Load factor after growing the hash table: 0.35\n"
     ]
    }
   ],
   "source": [
    "ht = HashTable()\n",
    "ht.put(\"good\", \"eggs\")\n",
    "ht.put(\"better\", \"ham\")\n",
    "ht.put(\"best\", \"spam\")\n",
    "ht.put(\"ad\", \"do not\")\n",
    "ht.put(\"ga\", \"collide\")\n",
    "ht.put(\"awd\", \"do not\") \n",
    "ht.put(\"add\", \"do not\") \n",
    "\n",
    "ht.check_growth()"
   ]
  },
  {
   "cell_type": "markdown",
   "id": "cceb5eb5",
   "metadata": {},
   "source": [
    "#### Dictionary hash"
   ]
  },
  {
   "cell_type": "code",
   "execution_count": 13,
   "id": "41781428",
   "metadata": {},
   "outputs": [],
   "source": [
    "class HashItem:\n",
    "    def __init__(self, key, value):\n",
    "        self.key = key\n",
    "        self.value = value\n",
    "\n",
    "class DictonaryHashTable: \n",
    "    def __init__(self): \n",
    "        self.size = 10\n",
    "        self.slots = [None for _ in range(self.size)] \n",
    "        self.count = 0 \n",
    "        self.MAXLOADFACTOR = 0.65\n",
    "\n",
    "    def _hash(self, key): \n",
    "        mult = 1 \n",
    "        hv = 0 \n",
    "        for ch in key: \n",
    "            hv += mult * ord(ch) \n",
    "            mult += 1 \n",
    "        return hv % self.size \n",
    "\n",
    "    def put(self, key, value): \n",
    "        item = HashItem(key, value) \n",
    "        h = self._hash(key)\n",
    "        while self.slots[h] is not None:\n",
    "            if self.slots[h].key == key:\n",
    "                break\n",
    "            h = (h + 1) % self.size\n",
    "        if self.slots[h] is None:\n",
    "            self.count += 1\n",
    "        self.slots[h] = item\n",
    "        self.check_growth()\n",
    "\n",
    "    def check_growth(self):\n",
    "        loadfactor = self.count / self.size \n",
    "        if loadfactor > self.MAXLOADFACTOR:\n",
    "            print(\"Load factor before growing the hash table:\", loadfactor)\n",
    "            self.growth()\n",
    "            print(\"Load factor after growing the hash table:\", self.count / self.size)\n",
    "\n",
    "    def growth(self):\n",
    "        new_table = DictonaryHashTable()\n",
    "        new_table.size = 2 * self.size\n",
    "        new_table.slots = [None for _ in range(new_table.size)]\n",
    "        for item in self.slots:\n",
    "            if item is not None:\n",
    "                new_table.put(item.key, item.value)\n",
    "        self.size = new_table.size\n",
    "        self.slots = new_table.slots\n",
    "\n",
    "    def get(self, key): \n",
    "        h = self._hash(key)\n",
    "        start = h\n",
    "        while self.slots[h] is not None:\n",
    "            if self.slots[h].key == key: \n",
    "                return self.slots[h].value \n",
    "            h = (h + 1) % self.size \n",
    "            if h == start:\n",
    "                break\n",
    "        return None\n",
    "\n",
    "    def __setitem__(self, key, value):\n",
    "        self.put(key, value)\n",
    "\n",
    "    def __getitem__(self, key):\n",
    "        result = self.get(key)\n",
    "        if result is None:\n",
    "            raise KeyError(f\"Key '{key}' not found in HashTable.\")\n",
    "        return result\n"
   ]
  },
  {
   "cell_type": "code",
   "execution_count": 12,
   "id": "d5436de3",
   "metadata": {},
   "outputs": [
    {
     "name": "stdout",
     "output_type": "stream",
     "text": [
      "goat: matcha\n",
      "better: es teh gebang\n",
      "best: nasi padang\n",
      "worst: None\n",
      "nama: royan\n",
      "NRP: 5054241022\n",
      "The number of elements is: 6\n"
     ]
    }
   ],
   "source": [
    "ht2 = DictonaryHashTable()\n",
    "ht2[\"goat\"] = \"matcha\"\n",
    "ht2[\"good\"] = \"suprek\"\n",
    "ht2[\"better\"] = \"es teh gebang\"\n",
    "ht2[\"best\"] = \"nasi padang\"\n",
    "ht2[\"nama\"] = \"royan\"\n",
    "ht2[\"NRP\"] = \"5054241022\"\n",
    "\n",
    "for key in (\"goat\", \"better\", \"best\", \"worst\", \"nama\", \"NRP\"):\n",
    "    try:\n",
    "        v = ht2[key]\n",
    "    except KeyError:\n",
    "        v = None\n",
    "    print(f\"{key}: {v}\")\n",
    "\n",
    "print(\"The number of elements is: {}\".format(ht2.count))"
   ]
  }
 ],
 "metadata": {
  "kernelspec": {
   "display_name": "Python 3",
   "language": "python",
   "name": "python3"
  },
  "language_info": {
   "codemirror_mode": {
    "name": "ipython",
    "version": 3
   },
   "file_extension": ".py",
   "mimetype": "text/x-python",
   "name": "python",
   "nbconvert_exporter": "python",
   "pygments_lexer": "ipython3",
   "version": "3.13.3"
  }
 },
 "nbformat": 4,
 "nbformat_minor": 5
}
