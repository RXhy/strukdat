{
 "cells": [
  {
   "cell_type": "markdown",
   "id": "10354d8d",
   "metadata": {},
   "source": [
    "1. Implementasikan queue menggunakan class, dan uji operasi enqueue dan dequeue.\n"
   ]
  },
  {
   "cell_type": "code",
   "execution_count": null,
   "id": "2cf5454c",
   "metadata": {},
   "outputs": [
    {
     "name": "stdout",
     "output_type": "stream",
     "text": [
      "1\n",
      "2\n"
     ]
    }
   ],
   "source": [
    "class queue:\n",
    "    def __init__(self):\n",
    "        self.queue = []\n",
    "    \n",
    "    def isempty(self):\n",
    "        return len(self.queue) == 0\n",
    "    \n",
    "    def enqueue(self,item):\n",
    "        self.queue.append(item)\n",
    "    \n",
    "    def dequeue(self):\n",
    "        if self.isempty():\n",
    "            return None\n",
    "        else:\n",
    "            return self.queue.pop(0)\n",
    "        \n",
    "testque = queue()\n",
    "testque.enqueue(1) # 1  \n",
    "testque.enqueue(2) # 1 2 \n",
    "testque.enqueue(3) # 1 2 3 \n",
    "print(testque.dequeue()) # 1 | 2 3 \n",
    "testque.enqueue(4) # 2 3 4\n",
    "print(testque.dequeue()) # 2 | 3 4 \n",
    "    "
   ]
  },
  {
   "cell_type": "markdown",
   "id": "5d1dce8e",
   "metadata": {},
   "source": [
    "2. Ubah class `InferenceQueue` agar mencatat waktu permintaan dan urutan prosesnya.\n"
   ]
  },
  {
   "cell_type": "code",
   "execution_count": 3,
   "id": "244df360",
   "metadata": {},
   "outputs": [
    {
     "name": "stdout",
     "output_type": "stream",
     "text": [
      "[19:55:34] Permintaan dari user_1 ditambahkan sebagai urutan ke-1.\n",
      "[19:55:34] Permintaan dari user_2 ditambahkan sebagai urutan ke-2.\n",
      "[19:55:34] Memproses user user_1 (urutan ke-1)...\n",
      "[19:55:35] Memproses user user_2 (urutan ke-2)...\n"
     ]
    }
   ],
   "source": [
    "import time \n",
    "from datetime import datetime\n",
    "\n",
    "class InferenceQueue:\n",
    "    def __init__(self):\n",
    "        self.queue = []\n",
    "        self.counter = 0\n",
    "\n",
    "    def add_request(self, user_id):\n",
    "        timestamp = datetime.now().strftime(\"%H:%M:%S\")\n",
    "        self.counter += 1\n",
    "        request = {\n",
    "            \"user_id\": user_id,\n",
    "            \"timestamp\": timestamp,\n",
    "            \"order\": self.counter\n",
    "        }\n",
    "        print(f\"[{timestamp}] Permintaan dari {user_id} ditambahkan sebagai urutan ke-{self.counter}.\")\n",
    "        self.queue.append(request)\n",
    "\n",
    "    def process(self):\n",
    "        while self.queue:\n",
    "            request = self.queue.pop(0)\n",
    "            print(f\"[{datetime.now().strftime('%H:%M:%S')}] Memproses user {request['user_id']} (urutan ke-{request['order']})...\")\n",
    "            time.sleep(1)\n",
    "    \n",
    "            \n",
    "antrian = InferenceQueue()\n",
    "antrian.add_request(\"user_1\")\n",
    "antrian.add_request(\"user_2\")\n",
    "antrian.process()"
   ]
  },
  {
   "cell_type": "markdown",
   "id": "4df93f9d",
   "metadata": {},
   "source": [
    "3. Implementasikan simulasi antrian customer service sederhana menggunakan queue."
   ]
  },
  {
   "cell_type": "code",
   "execution_count": 2,
   "id": "1e099f97",
   "metadata": {},
   "outputs": [
    {
     "name": "stdout",
     "output_type": "stream",
     "text": [
      "Customer budi mengubungi customer service\n",
      "melayani customer budi\n",
      "Customer adit mengubungi customer service\n",
      "Customer fuad mengubungi customer service\n",
      "melayani customer adit\n",
      "melayani customer fuad\n"
     ]
    }
   ],
   "source": [
    "class CustomerService:\n",
    "    def __init__(self):\n",
    "        self.queue = []\n",
    "        \n",
    "    def add(self, name):\n",
    "        self.queue.append(name)\n",
    "        print(f\"Customer {name} mengubungi customer service\")\n",
    "    \n",
    "    def process(self):\n",
    "        while self.queue:\n",
    "            name = self.queue.pop(0)\n",
    "            print(f\"melayani customer {name}\")\n",
    "\n",
    "antri = CustomerService()\n",
    "antri.add(\"budi\")\n",
    "antri.process()\n",
    "antri.add(\"adit\")\n",
    "antri.add(\"fuad\")\n",
    "antri.process()"
   ]
  }
 ],
 "metadata": {
  "kernelspec": {
   "display_name": "Python 3",
   "language": "python",
   "name": "python3"
  },
  "language_info": {
   "codemirror_mode": {
    "name": "ipython",
    "version": 3
   },
   "file_extension": ".py",
   "mimetype": "text/x-python",
   "name": "python",
   "nbconvert_exporter": "python",
   "pygments_lexer": "ipython3",
   "version": "3.13.1"
  }
 },
 "nbformat": 4,
 "nbformat_minor": 5
}
