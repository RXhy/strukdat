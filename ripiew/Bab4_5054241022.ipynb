{
 "cells": [
  {
   "cell_type": "markdown",
   "id": "6361c0fc",
   "metadata": {},
   "source": [
    "1. Implementasikan method `insert_at(index, data)` pada singly linked list.\n"
   ]
  },
  {
   "cell_type": "code",
   "execution_count": 9,
   "id": "4e0e07c5",
   "metadata": {},
   "outputs": [
    {
     "name": "stdout",
     "output_type": "stream",
     "text": [
      "1 -> 5 -> 2 -> 3 -> None\n"
     ]
    }
   ],
   "source": [
    "class Node:\n",
    "    def __init__(self, data):\n",
    "        self.data = data\n",
    "        self.next = None\n",
    "\n",
    "class SinglyLinkedList:\n",
    "    def __init__(self):\n",
    "        self.head = None\n",
    "\n",
    "    def append(self, data):\n",
    "        new_node = Node(data)\n",
    "        if not self.head:\n",
    "            self.head = new_node\n",
    "            return\n",
    "        current = self.head\n",
    "        while current.next:\n",
    "            current = current.next\n",
    "        current.next = new_node\n",
    "\n",
    "    def display(self):\n",
    "        current = self.head\n",
    "        while current:\n",
    "            print(current.data, end=' -> ')\n",
    "            current = current.next\n",
    "        print(\"None\")\n",
    "        \n",
    "    def insert_at(self,index,data):\n",
    "        new_node = Node(data)\n",
    "        if index == 0:\n",
    "            new_node.next = self.head\n",
    "            self.head = new_node\n",
    "            return\n",
    "        current = self.head\n",
    "        count = 0\n",
    "        while current and count < index - 1:\n",
    "            current = current.next\n",
    "            count += 1\n",
    "        if not current:\n",
    "            return None\n",
    "        new_node.next = current.next\n",
    "        current.next = new_node\n",
    "        \n",
    "\n",
    "ll = SinglyLinkedList()\n",
    "ll.append(1)\n",
    "ll.append(2)\n",
    "ll.append(3)\n",
    "ll.insert_at(1,5)\n",
    "ll.display()  # Output: 1 -> 2 -> 3 -> None\n"
   ]
  },
  {
   "cell_type": "markdown",
   "id": "11c7670c",
   "metadata": {},
   "source": [
    "2. Tambahkan fitur `delete_by_value(data)`."
   ]
  },
  {
   "cell_type": "code",
   "execution_count": 10,
   "id": "e853a8fa",
   "metadata": {},
   "outputs": [
    {
     "name": "stdout",
     "output_type": "stream",
     "text": [
      "1 -> 5 -> 2 -> None\n"
     ]
    }
   ],
   "source": [
    "def delete_by_value(self, data):\n",
    "    current = self.head\n",
    "    if not current:\n",
    "        return\n",
    "    if current.data == data:\n",
    "        self.head = current.next\n",
    "        return\n",
    "    while current.next and current.next.data != data:\n",
    "        current = current.next\n",
    "    if current.next:\n",
    "        current.next = current.next.next\n",
    "\n",
    "SinglyLinkedList.delete_by_value = delete_by_value\n",
    "\n",
    "ll.delete_by_value(3)\n",
    "ll.display() "
   ]
  },
  {
   "cell_type": "markdown",
   "id": "63fc144e",
   "metadata": {},
   "source": [
    "3. Gunakan linked list untuk menyimpan dan membalikkan kalimat."
   ]
  },
  {
   "cell_type": "code",
   "execution_count": 11,
   "id": "464a9d0a",
   "metadata": {},
   "outputs": [
    {
     "name": "stdout",
     "output_type": "stream",
     "text": [
      "bebek -> dan -> ayam -> kejar -> pak tua -> None\n",
      "pak tua -> kejar -> ayam -> dan -> bebek -> None\n"
     ]
    }
   ],
   "source": [
    "def reverse(self):\n",
    "    prev = None\n",
    "    current = self.head\n",
    "    while current:\n",
    "        next_node = current.next\n",
    "        current.next = prev\n",
    "        prev = current\n",
    "        current = next_node\n",
    "    self.head = prev\n",
    "\n",
    "SinglyLinkedList.reverse = reverse\n",
    "\n",
    "kalimat = SinglyLinkedList()\n",
    "kalimat.append(\"bebek\")\n",
    "kalimat.append(\"dan\")\n",
    "kalimat.append(\"ayam\")\n",
    "kalimat.append(\"kejar\")\n",
    "kalimat.append(\"pak tua\")\n",
    "kalimat.display()\n",
    "\n",
    "kalimat.reverse()\n",
    "kalimat.display()\n"
   ]
  }
 ],
 "metadata": {
  "kernelspec": {
   "display_name": "Python 3",
   "language": "python",
   "name": "python3"
  },
  "language_info": {
   "codemirror_mode": {
    "name": "ipython",
    "version": 3
   },
   "file_extension": ".py",
   "mimetype": "text/x-python",
   "name": "python",
   "nbconvert_exporter": "python",
   "pygments_lexer": "ipython3",
   "version": "3.13.1"
  }
 },
 "nbformat": 4,
 "nbformat_minor": 5
}
