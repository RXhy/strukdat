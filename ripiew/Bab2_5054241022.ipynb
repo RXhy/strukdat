{
 "cells": [
  {
   "cell_type": "markdown",
   "id": "e8ee0e5d",
   "metadata": {},
   "source": [
    "1. Implementasikan stack dengan array/list biasa dan uji operasi push/pop/peek."
   ]
  },
  {
   "cell_type": "code",
   "execution_count": 5,
   "id": "1612e459",
   "metadata": {},
   "outputs": [
    {
     "name": "stdout",
     "output_type": "stream",
     "text": [
      "['PUSH', '1'] ['1']\n",
      "['PUSH', '2'] ['1', '2']\n",
      "['PUSH', '3'] ['1', '2', '3']\n",
      "['POP'] 3\n",
      "['PEEK'] 2\n"
     ]
    }
   ],
   "source": [
    "stack = []\n",
    "n = int(input())\n",
    "\n",
    "for i in range(n):\n",
    "    temp = input().upper().split(\" \")\n",
    "    if temp[0] == \"PUSH\":\n",
    "        stack.append(temp[1])\n",
    "        print(temp, stack)\n",
    "    elif temp[0] == \"POP\":\n",
    "        print(temp, stack.pop())\n",
    "    elif temp[0] == \"PEEK\":\n",
    "        print(temp, stack[-1])"
   ]
  },
  {
   "cell_type": "markdown",
   "id": "0a5a7315",
   "metadata": {},
   "source": [
    "2. Buat program yang menerima ekspresi postfix dan mengembalikan hasilnya.\n"
   ]
  },
  {
   "cell_type": "code",
   "execution_count": 7,
   "id": "3f2aca37",
   "metadata": {},
   "outputs": [
    {
     "name": "stdout",
     "output_type": "stream",
     "text": [
      "[14]\n",
      "[45]\n",
      "[-0.25]\n"
     ]
    }
   ],
   "source": [
    "def postfix(text):\n",
    "    stack = []\n",
    "    for char in text.split():\n",
    "        if char.isdigit():\n",
    "            stack.append(int(char))\n",
    "        else:\n",
    "            a = stack.pop()\n",
    "            b = stack.pop()\n",
    "            if char == \"+\": stack.append(a + b)\n",
    "            elif char == \"-\": stack.append(a - b)\n",
    "            elif char == \"*\": stack.append(a * b)\n",
    "            elif char == \"/\": stack.append(a / b)\n",
    "    return stack\n",
    "\n",
    "print(postfix(\"2 3 4 * +\")) #(a+(b*c)) = abc*+\n",
    "print(postfix(\"2 3 + 4 5 + *\")) #((a+b)*(z+x)) / ab+zx+*\n",
    "print(postfix(\"1 3 + 5 * 10 5 - /\")) "
   ]
  },
  {
   "cell_type": "markdown",
   "id": "5611b8f5",
   "metadata": {},
   "source": [
    "3. Ubah fungsi `evaluate_postfix` agar mendukung operator eksponensial (`^`)."
   ]
  },
  {
   "cell_type": "code",
   "execution_count": 15,
   "id": "bd696b4d",
   "metadata": {},
   "outputs": [
    {
     "name": "stdout",
     "output_type": "stream",
     "text": [
      "600\n"
     ]
    }
   ],
   "source": [
    "def evaluate_postfix(expr):\n",
    "    stack = []\n",
    "    for token in expr.split():\n",
    "        if token.isdigit():\n",
    "            stack.append(int(token))\n",
    "        else:\n",
    "            b = stack.pop()\n",
    "            a = stack.pop()\n",
    "            if token == '+': stack.append(a + b)\n",
    "            elif token == '-': stack.append(a-b)\n",
    "            elif token == '*': stack.append(a*b)\n",
    "            elif token == '/': stack.append(a/b)\n",
    "            elif token == '^': stack.append(a**b)\n",
    "    return stack[0]\n",
    "\n",
    "print(evaluate_postfix(\"2 4 + 3 2 5 + + 1 1 + ^ *\"))\n",
    "#((a+t)*((b+(a+c))^(c+d))) / at+bac++cd+^*"
   ]
  }
 ],
 "metadata": {
  "kernelspec": {
   "display_name": "Python 3",
   "language": "python",
   "name": "python3"
  },
  "language_info": {
   "codemirror_mode": {
    "name": "ipython",
    "version": 3
   },
   "file_extension": ".py",
   "mimetype": "text/x-python",
   "name": "python",
   "nbconvert_exporter": "python",
   "pygments_lexer": "ipython3",
   "version": "3.13.3"
  }
 },
 "nbformat": 4,
 "nbformat_minor": 5
}
