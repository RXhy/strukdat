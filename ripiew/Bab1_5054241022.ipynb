{
 "cells": [
  {
   "cell_type": "markdown",
   "id": "87aab629",
   "metadata": {},
   "source": [
    "1. Buatlah array berisi 10 angka genap pertama, kemudian hitung jumlah seluruh elemennya."
   ]
  },
  {
   "cell_type": "code",
   "execution_count": 7,
   "id": "748cf333",
   "metadata": {},
   "outputs": [
    {
     "name": "stdout",
     "output_type": "stream",
     "text": [
      "110\n"
     ]
    }
   ],
   "source": [
    "genap = [2,4,6,8,10,12,14,16,18,20]\n",
    "total = 0 \n",
    "for i in range (len(genap)):\n",
    "    total += genap[i] \n",
    "\n",
    "print(total)"
   ]
  },
  {
   "cell_type": "markdown",
   "id": "8eb6730f",
   "metadata": {},
   "source": [
    "2. Buatlah list yang berisi data nama mahasiswa, kemudian tambahkan dan hapus nama dari list tersebut."
   ]
  },
  {
   "cell_type": "code",
   "execution_count": 13,
   "id": "8b366f95",
   "metadata": {},
   "outputs": [
    {
     "name": "stdout",
     "output_type": "stream",
     "text": [
      "['adit']\n",
      "['adit', 'adit']\n",
      "['adit', 'adit', 'adit']\n",
      "['adit', 'adit']\n"
     ]
    }
   ],
   "source": [
    "data = []\n",
    "x = int(input())\n",
    "\n",
    "for i in range(x):\n",
    "    n = input().split(\" \")\n",
    "    if \"+\" in n:\n",
    "        data.append(n[1])\n",
    "    elif \"-\" in n:\n",
    "        inisial = n[1]\n",
    "        if inisial in data:\n",
    "            for i in data:\n",
    "                if i == inisial:\n",
    "                    data.remove(inisial)\n",
    "                    break\n",
    "    print(data)\n",
    "    \n",
    "# nama double kedelete yang awal"
   ]
  },
  {
   "cell_type": "markdown",
   "id": "8aa105d4",
   "metadata": {},
   "source": [
    "3. Buat representasi array 2D dari matriks 3x3 dan tulis program untuk menjumlahkan semua elemen diagonal utama. "
   ]
  },
  {
   "cell_type": "code",
   "execution_count": 1,
   "id": "7d6eba35",
   "metadata": {},
   "outputs": [
    {
     "name": "stdout",
     "output_type": "stream",
     "text": [
      "[[2, 3, 5], [4, 2, 1], [6, 7, 8]]\n",
      "12\n"
     ]
    }
   ],
   "source": [
    "matri = []\n",
    "\n",
    "for i in range(3):\n",
    "    temp = list(map(int,input().split()))\n",
    "    matri.append(temp)\n",
    "    \n",
    "total = 0 \n",
    "\n",
    "for i in range(3):\n",
    "    for j in range(3):\n",
    "        if i == j:\n",
    "            total += matri[i][j]\n",
    "print(matri)            \n",
    "print(total)"
   ]
  }
 ],
 "metadata": {
  "kernelspec": {
   "display_name": "Python 3",
   "language": "python",
   "name": "python3"
  },
  "language_info": {
   "codemirror_mode": {
    "name": "ipython",
    "version": 3
   },
   "file_extension": ".py",
   "mimetype": "text/x-python",
   "name": "python",
   "nbconvert_exporter": "python",
   "pygments_lexer": "ipython3",
   "version": "3.13.1"
  }
 },
 "nbformat": 4,
 "nbformat_minor": 5
}
